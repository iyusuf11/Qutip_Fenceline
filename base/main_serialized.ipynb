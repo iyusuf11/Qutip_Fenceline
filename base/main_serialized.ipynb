{
 "cells": [
  {
   "cell_type": "code",
   "execution_count": 24,
   "metadata": {},
   "outputs": [],
   "source": [
    "import numpy as np\n",
    "import pandas as pd\n",
    "from tqdm import tqdm\n",
    "import itertools\n",
    "import matplotlib.pyplot as plt\n",
    "import qutip as qt\n",
    "import scipy.constants as sc\n",
    "from joblib import Parallel, delayed\n",
    "from functools import partial\n",
    "from mode import CavityMode, QuantumMode, SNAILMode\n",
    "from hamiltonian import Hamiltonian, QubitQubitSNAIL\n",
    "from pulse import Pulse\n",
    "from system import QuantumSystem"
   ]
  },
  {
   "cell_type": "code",
   "execution_count": null,
   "metadata": {},
   "outputs": [
    {
     "name": "stdout",
     "output_type": "stream",
     "text": [
      " Total run time:  44.05s*] Elapsed 44.05s / Remaining 00:00:00:00\n"
     ]
    },
    {
     "ename": "TypeError",
     "evalue": "'float' object is not iterable",
     "output_type": "error",
     "traceback": [
      "\u001b[1;31m---------------------------------------------------------------------------\u001b[0m",
      "\u001b[1;31mTypeError\u001b[0m                                 Traceback (most recent call last)",
      "Cell \u001b[1;32mIn[23], line 26\u001b[0m\n\u001b[0;32m     21\u001b[0m collapse_ops \u001b[38;5;241m=\u001b[39m [i\u001b[38;5;241m.\u001b[39mcollapse_operators()[\u001b[38;5;241m0\u001b[39m] \u001b[38;5;28;01mfor\u001b[39;00m i \u001b[38;5;129;01min\u001b[39;00m quantum_system\u001b[38;5;241m.\u001b[39mmodes]\n\u001b[0;32m     24\u001b[0m result \u001b[38;5;241m=\u001b[39m qt\u001b[38;5;241m.\u001b[39mmesolve(system_driven, psi0, tlist, args\u001b[38;5;241m=\u001b[39mdrive_1_args, options\u001b[38;5;241m=\u001b[39m{\u001b[38;5;124m\"\u001b[39m\u001b[38;5;124mstore_states\u001b[39m\u001b[38;5;124m\"\u001b[39m:\u001b[38;5;28;01mTrue\u001b[39;00m, \u001b[38;5;124m\"\u001b[39m\u001b[38;5;124mprogress_bar\u001b[39m\u001b[38;5;124m\"\u001b[39m:\u001b[38;5;124m\"\u001b[39m\u001b[38;5;124menhanced\u001b[39m\u001b[38;5;124m\"\u001b[39m, \u001b[38;5;124m\"\u001b[39m\u001b[38;5;124mrtol\u001b[39m\u001b[38;5;124m\"\u001b[39m:\u001b[38;5;241m1e-8\u001b[39m, \u001b[38;5;124m\"\u001b[39m\u001b[38;5;124matol\u001b[39m\u001b[38;5;124m\"\u001b[39m:\u001b[38;5;241m1e-10\u001b[39m, \u001b[38;5;124m\"\u001b[39m\u001b[38;5;124mnsteps\u001b[39m\u001b[38;5;124m\"\u001b[39m:\u001b[38;5;241m1e6\u001b[39m})\n\u001b[1;32m---> 26\u001b[0m freq_amp_pairs \u001b[38;5;241m=\u001b[39m \u001b[38;5;28mlist\u001b[39m(itertools\u001b[38;5;241m.\u001b[39mproduct(w_d, amp_d))\n",
      "\u001b[1;31mTypeError\u001b[0m: 'float' object is not iterable"
     ]
    }
   ],
   "source": [
    "   \n",
    "def simulation_task(freq_amp_pair, system_hamiltonian, quantum_system, psi0, tlist, collapse_ops, drive_1_args):\n",
    "    \"\"\"Runs a simulation for a given frequency and amplitude.\"\"\"\n",
    "    freq, amp = freq_amp_pair\n",
    "\n",
    "    # Define the drive with the new parameters\n",
    "    drive = Pulse(omega=freq, amp=amp, phi=0)\n",
    "    system_driven = system_hamiltonian.driven(drive)\n",
    "\n",
    "    # Solve the system\n",
    "    result = qt.mesolve(\n",
    "        system_driven, psi0, tlist, collapse_ops,\n",
    "        args=drive_1_args, options={\"store_states\": True, \"progress_bar\": None, \"rtol\": 1e-8, \"atol\": 1e-10, \"nsteps\": 1e6}\n",
    "    )\n",
    "\n",
    "    return result\n",
    "\n",
    "\n",
    "def convert_array(param):\n",
    "    \"\"\"Ensure the input is a NumPy array.\"\"\"\n",
    "    if isinstance(param, (int, float)):  # If a single number, convert to an array\n",
    "        return np.array([param])\n",
    "    return np.array(param)  # If already a list/array, convert it to a NumPy array\n",
    "\n",
    "if __name__ == '__main__':\n",
    "\n",
    "    yaml_file = r\"D:/Github/Qutip/Evan/system_params.yaml\"\n",
    "\n",
    "    # create the quantum system for simulation\n",
    "    quantum_system = QuantumSystem.from_yaml(yaml_file)\n",
    "    system_hamiltonian = QubitQubitSNAIL(quantum_system, use_RWA=False, use_TLS=False)\n",
    "    psi0 = quantum_system.prepare_tensor_fock_state([(system_hamiltonian.q2_mode, 1)])\n",
    "    collapse_ops = [i.collapse_operators()[0] for i in quantum_system.modes]\n",
    "\n",
    "    width_d = 400\n",
    "    tlist = np.linspace(0,1500, 15001)\n",
    "\n",
    "    # Additional pulse args used in mesolve\n",
    "    drive_1_args = {\"shape\": Pulse.smoothbox, \"shape_params\": {\"t0\": 300, \"width\": width_d}}\n",
    "\n",
    "    detune = 2 * np.pi * 0.0\n",
    "    amp_d = 10\n",
    "\n",
    "    flist = convert_array(detune) + np.abs((system_hamiltonian.q1_mode.freq - system_hamiltonian.q2_mode.freq)) * 2 * np.pi\n",
    "    alist = convert_array(amp_d)\n",
    "\n",
    "    freq_amp_pairs = list(itertools.product(flist, alist))\n",
    "\n",
    "    # drive_1 = Pulse(omega=w_d, amp = amp_d, phi = 0)\n",
    "\n",
    "    # pulse_args = drive_1.smoothbox(t0 = 100, width = width_d, k=0.5, b=3)\n",
    "    # system_driven = system_hamiltonian.driven(drive_1)\n",
    "    \n",
    "\n",
    "    # result = qt.mesolve(system_driven, psi0, tlist, collapse_ops, args=drive_1_args, options={\"store_states\":True, \"progress_bar\":\"enhanced\", \"rtol\":1e-8, \"atol\":1e-10, \"nsteps\":1e6})\n",
    "    \n",
    "    \n",
    "\n",
    "    func = partial(simulation_task, Hamiltonian=system_hamiltonian, psi0=psi0, t_list=tlist, pulse_args=drive_1_args)\n",
    "    results = Parallel(n_jobs=8, verbose=10)(delayed(func)(pair) for pair in freq_amp_pairs)\n"
   ]
  },
  {
   "cell_type": "code",
   "execution_count": 19,
   "metadata": {},
   "outputs": [
    {
     "name": "stdout",
     "output_type": "stream",
     "text": [
      "overlap between psi0 and a prepped initial state says Q2 is in |g> = 0.000 \n",
      "overlap between final state and a prepped initial state says Q2 is in |g> = 0.018\n",
      "overlap between psi0 and a prepped initial state says Q2 is in |e> = 1.000 \n",
      "overlap between final state and a prepped initial state says Q2 is in |e> = 0.981\n"
     ]
    }
   ],
   "source": [
    " # calculate expectation values\n",
    "psi_q2_0_i = quantum_system.mode_population_expectation(psi0, system_hamiltonian.q2_mode, 0)\n",
    "psi_q2_0_f = quantum_system.mode_population_expectation(result.states[-1], system_hamiltonian.q2_mode, 0)\n",
    "psi_q2_1_i = quantum_system.mode_population_expectation(psi0, system_hamiltonian.q2_mode, 1)\n",
    "psi_q2_1_f = quantum_system.mode_population_expectation(result.states[-1], system_hamiltonian.q2_mode, 1)\n",
    "\n",
    "print(f\"overlap between psi0 and a prepped initial state says Q2 is in |g> = {psi_q2_0_i:.3f} \\noverlap between final state and a prepped initial state says Q2 is in |g> = {psi_q2_0_f:.3f}\")\n",
    "print(f\"overlap between psi0 and a prepped initial state says Q2 is in |e> = {psi_q2_1_i:.3f} \\noverlap between final state and a prepped initial state says Q2 is in |e> = {psi_q2_1_f:.3f}\")"
   ]
  },
  {
   "cell_type": "code",
   "execution_count": 20,
   "metadata": {},
   "outputs": [
    {
     "name": "stdout",
     "output_type": "stream",
     "text": [
      "overlap between psi0 and a prepped initial state says Q1 is in |g> = 1.000 \n",
      "overlap between final state and a prepped initial state says Q1 is in |g> = 0.934\n",
      "overlap between psi0 and a prepped initial state says Q1 is in |e> = 0.000 \n",
      "overlap between final state and a prepped initial state says Q1 is in |e> = 0.063\n"
     ]
    }
   ],
   "source": [
    "psi_q1_0_i = quantum_system.mode_population_expectation(psi0, system_hamiltonian.q1_mode, 0)\n",
    "psi_q1_0_f = quantum_system.mode_population_expectation(result.states[-1], system_hamiltonian.q1_mode, 0)\n",
    "psi_q1_1_i = quantum_system.mode_population_expectation(psi0, system_hamiltonian.q1_mode, 1)\n",
    "psi_q1_1_f = quantum_system.mode_population_expectation(result.states[-1], system_hamiltonian.q1_mode, 1)\n",
    "\n",
    "print(f\"overlap between psi0 and a prepped initial state says Q1 is in |g> = {psi_q1_0_i:.3f} \\noverlap between final state and a prepped initial state says Q1 is in |g> = {psi_q1_0_f:.3f}\")\n",
    "print(f\"overlap between psi0 and a prepped initial state says Q1 is in |e> = {psi_q1_1_i:.3f} \\noverlap between final state and a prepped initial state says Q1 is in |e> = {psi_q1_1_f:.3f}\")"
   ]
  },
  {
   "cell_type": "code",
   "execution_count": 21,
   "metadata": {},
   "outputs": [
    {
     "name": "stderr",
     "output_type": "stream",
     "text": [
      "100%|██████████| 15001/15001 [00:30<00:00, 491.38it/s]\n",
      "100%|██████████| 15001/15001 [00:11<00:00, 1258.47it/s]\n",
      "100%|██████████| 15001/15001 [00:11<00:00, 1256.50it/s]\n"
     ]
    }
   ],
   "source": [
    "def get_pop_dist(states, mode, quantum_system):\n",
    "    population = np.zeros((len(states), mode.dim))\n",
    "    for k, state in enumerate(tqdm(states)):\n",
    "        for i in range(mode.dim):\n",
    "            population[k][i] = quantum_system.mode_population_expectation(state, mode, i)\n",
    "\n",
    "    return population\n",
    "\n",
    "s_pop = get_pop_dist(result.states, system_hamiltonian.snail_mode, quantum_system)\n",
    "q1_pop = get_pop_dist(result.states, system_hamiltonian.q1_mode, quantum_system)\n",
    "q2_pop = get_pop_dist(result.states, system_hamiltonian.q2_mode, quantum_system)"
   ]
  },
  {
   "cell_type": "code",
   "execution_count": 13,
   "metadata": {},
   "outputs": [
    {
     "data": {
      "text/plain": [
       "Text(0.5, 0, 'time (ns)')"
      ]
     },
     "execution_count": 13,
     "metadata": {},
     "output_type": "execute_result"
    },
    {
     "data": {
      "image/png": "[encoded data removed]",
      "text/plain": [
       "<Figure size 640x480 with 1 Axes>"
      ]
     },
     "metadata": {},
     "output_type": "display_data"
    }
   ],
   "source": [
    "plt.figure(\"mode population\")\n",
    "# plt.plot(tlist, s_pop[:, 0], label='SNAIL |0>')\n",
    "# plt.plot(tlist, s_pop[:, 1], label='SNAIL |1>')\n",
    "# plt.plot(t_list, s_pop[:, 2], label='SNAIL |2>')\n",
    "plt.plot(tlist, q1_pop[:, 0], label='Q1 |0>')\n",
    "plt.plot(tlist, q2_pop[:, 1], label='Q2 |1>')\n",
    "plt.legend()\n",
    "plt.xlabel(\"time (ns)\")"
   ]
  },
  {
   "cell_type": "code",
   "execution_count": null,
   "metadata": {},
   "outputs": [],
   "source": []
  }
 ],
 "metadata": {
  "kernelspec": {
   "display_name": "qutip-env",
   "language": "python",
   "name": "python3"
  },
  "language_info": {
   "codemirror_mode": {
    "name": "ipython",
    "version": 3
   },
   "file_extension": ".py",
   "mimetype": "text/x-python",
   "name": "python",
   "nbconvert_exporter": "python",
   "pygments_lexer": "ipython3",
   "version": "3.12.6"
  }
 },
 "nbformat": 4,
 "nbformat_minor": 2
}
